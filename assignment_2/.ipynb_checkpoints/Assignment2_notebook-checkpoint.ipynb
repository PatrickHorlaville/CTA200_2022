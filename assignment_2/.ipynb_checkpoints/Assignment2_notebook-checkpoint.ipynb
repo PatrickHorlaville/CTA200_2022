{
 "cells": [
  {
   "cell_type": "code",
   "execution_count": 14,
   "id": "9c0a29e5",
   "metadata": {},
   "outputs": [
    {
     "data": {
      "text/plain": [
       "'\\nCTA200H Computing in Astrophysics\\nProfessor: Norman Murray\\nTA: Fergus Horrobin\\nAssignment 2\\n@author: Patrick Horlaville\\nMay 7th, 2022\\n'"
      ]
     },
     "execution_count": 14,
     "metadata": {},
     "output_type": "execute_result"
    }
   ],
   "source": [
    "'''\n",
    "CTA200H Computing in Astrophysics\n",
    "Professor: Norman Murray\n",
    "TA: Fergus Horrobin\n",
    "Assignment 2\n",
    "@author: Patrick Horlaville\n",
    "May 7th, 2022\n",
    "'''"
   ]
  },
  {
   "cell_type": "markdown",
   "id": "fd777f58",
   "metadata": {},
   "source": [
    "## Making the function for Newton's method"
   ]
  },
  {
   "cell_type": "code",
   "execution_count": 13,
   "id": "4fc68a53",
   "metadata": {},
   "outputs": [],
   "source": [
    "import numpy as np\n",
    "import matplotlib.pyplot as plt"
   ]
  },
  {
   "cell_type": "code",
   "execution_count": 15,
   "id": "e766c269",
   "metadata": {},
   "outputs": [],
   "source": [
    "def f(x):\n",
    "    '''\n",
    "    Computes the output of a specified array x input into a specified function f(x) = x**3 - x**2 - 1 \n",
    "    \n",
    "    Parameters\n",
    "    ----------\n",
    "    \n",
    "    x : array_like\n",
    "        values to be input into the function f\n",
    "        \n",
    "    Returns\n",
    "    -------\n",
    "    \n",
    "    f(x) : array_like\n",
    "           output values of x input into f\n",
    "    '''\n",
    "    \n",
    "    \n",
    "    return (x**3) - (x**2) - 1"
   ]
  },
  {
   "cell_type": "code",
   "execution_count": 16,
   "id": "2f23d071",
   "metadata": {},
   "outputs": [],
   "source": [
    "def df(x):\n",
    "    '''\n",
    "    Computes the output of a specified array x input into a specified function df(x) = (3*(x**2)) - (2*x) \n",
    "    \n",
    "    Parameters\n",
    "    ----------\n",
    "    \n",
    "    x : array_like\n",
    "        values to be input into the function f\n",
    "        \n",
    "    Returns\n",
    "    -------\n",
    "    \n",
    "    df(x) : array_like\n",
    "           output values of x input into df\n",
    "           \n",
    "           \n",
    "    Notes \n",
    "    -----\n",
    "    \n",
    "    This specific function df() corresponds to the derivative function of f() specified above.\n",
    "    \n",
    "    '''\n",
    "    \n",
    "    return (3*(x**2)) - (2*x)"
   ]
  },
  {
   "cell_type": "code",
   "execution_count": 17,
   "id": "b7da7a17",
   "metadata": {},
   "outputs": [],
   "source": [
    "def newton(f, df, x0, max_iter, epsilon):\n",
    "    \n",
    "    '''\n",
    "    Uses Newton's method root-finding algorithm over a number of specified iterations on a specified function. \n",
    "    The root is detected once the value of |f(x_n)| is sufficiently close to zero; x_n is then taken to be the root.\n",
    "    The iteration stops if a root is found. \n",
    "\n",
    "    \n",
    "    Parameters  \n",
    "    ----------\n",
    "    \n",
    "    f : function\n",
    "        analytical expression over which we want to find the root\n",
    "         \n",
    "    df : function\n",
    "        analytical expression of the derivative of f\n",
    "        \n",
    "    x0 : float\n",
    "        value where the iteration of the Newton method starts\n",
    "    \n",
    "    max_iter : integer\n",
    "        number of iterations performed using the Newton method\n",
    "    \n",
    "    epsilon : float\n",
    "        threshold of acceptance for |f(x_n)| below which x_n is taken to be a root \n",
    "        \n",
    "        \n",
    "    Returns\n",
    "    -------\n",
    "    \n",
    "    If the root is found : \n",
    "        x_n: float\n",
    "        the value of the root along with a printed statement\n",
    "        \n",
    "    If no root is found : \n",
    "        None \n",
    "        along with a printed statement\n",
    "    \n",
    "    '''\n",
    "    \n",
    "    x = np.zeros(max_iter+1)\n",
    "    x[0] = x0\n",
    "    \n",
    "    for n in range(max_iter):\n",
    "        \n",
    "        x[n+1] = x[n] - (f(x[n]))/(df(x[n]))\n",
    "        \n",
    "        if np.absolute(f(x[n])) < epsilon:\n",
    "            print(\"Found root in\", n, \"iterations\")\n",
    "            return x[n]\n",
    "            break\n",
    "            \n",
    "    if np.absolute(f(x[-1])) >= epsilon:\n",
    "        print(\"Iteration failed\")\n",
    "        return None\n",
    "        \n",
    "    else:\n",
    "        print(\"Found root in\", max_iter, \"iterations, just at my limit! Phew!\")\n",
    "        return x[-1]"
   ]
  },
  {
   "cell_type": "markdown",
   "id": "be4c3e2f",
   "metadata": {},
   "source": [
    "We pick max_iter to be 30, epsilon to be 1e-06 and we liberally choose x0 to be 0.1"
   ]
  },
  {
   "cell_type": "code",
   "execution_count": 18,
   "id": "5c6de162",
   "metadata": {},
   "outputs": [
    {
     "name": "stdout",
     "output_type": "stream",
     "text": [
      "Found root in 11 iterations\n"
     ]
    },
    {
     "data": {
      "text/plain": [
       "1.4655713154475905"
      ]
     },
     "execution_count": 18,
     "metadata": {},
     "output_type": "execute_result"
    }
   ],
   "source": [
    "newton(f, df, 0.1, 30, 1e-06)"
   ]
  },
  {
   "cell_type": "markdown",
   "id": "f62a7c00",
   "metadata": {},
   "source": [
    "## Checking that the result makes sense"
   ]
  },
  {
   "cell_type": "code",
   "execution_count": 7,
   "id": "ac763ffe",
   "metadata": {},
   "outputs": [
    {
     "name": "stdout",
     "output_type": "stream",
     "text": [
      "Found root in 11 iterations\n"
     ]
    },
    {
     "data": {
      "text/plain": [
       "<matplotlib.legend.Legend at 0x7faa39033e80>"
      ]
     },
     "execution_count": 7,
     "metadata": {},
     "output_type": "execute_result"
    },
    {
     "data": {
      "image/png": "[encoded data removed]",
      "text/plain": [
       "<Figure size 432x288 with 1 Axes>"
      ]
     },
     "metadata": {
      "needs_background": "light"
     },
     "output_type": "display_data"
    }
   ],
   "source": [
    "x_test = np.linspace(0, 2, 100)\n",
    "y_test = f(x_test)\n",
    "\n",
    "plt.plot(x_test, y_test, 'r', label = 'f')\n",
    "plt.vlines(x = newton(f, df, 0.1, 30), ymin = -5, ymax = 5, linestyle = '--', label = 'Estimate for root')\n",
    "plt.hlines(y = 0, xmin = 0, xmax = 2, color = 'k', label = 'y=0 line')\n",
    "plt.legend()"
   ]
  },
  {
   "cell_type": "markdown",
   "id": "b37145b8",
   "metadata": {},
   "source": [
    "Looks pretty good! The function newton() seems to have accurately found the root of f"
   ]
  },
  {
   "cell_type": "markdown",
   "id": "2cd86daa",
   "metadata": {},
   "source": [
    "## Experimenting"
   ]
  },
  {
   "cell_type": "markdown",
   "id": "f856df1b",
   "metadata": {},
   "source": [
    "First, let's try to see what happens when we change the chosen value of x_0"
   ]
  },
  {
   "cell_type": "markdown",
   "id": "3527974a",
   "metadata": {},
   "source": [
    "Take x0 = -100, -10, 10, 100"
   ]
  },
  {
   "cell_type": "code",
   "execution_count": 33,
   "id": "05a3509a",
   "metadata": {},
   "outputs": [
    {
     "name": "stdout",
     "output_type": "stream",
     "text": [
      "Found root in 20 iterations\n"
     ]
    },
    {
     "data": {
      "text/plain": [
       "1.465571231890084"
      ]
     },
     "execution_count": 33,
     "metadata": {},
     "output_type": "execute_result"
    }
   ],
   "source": [
    "newton(f, df, -100, 30, 1e-06)"
   ]
  },
  {
   "cell_type": "code",
   "execution_count": 34,
   "id": "c6d880ce",
   "metadata": {},
   "outputs": [
    {
     "name": "stdout",
     "output_type": "stream",
     "text": [
      "Found root in 26 iterations\n"
     ]
    },
    {
     "data": {
      "text/plain": [
       "1.4655712376690906"
      ]
     },
     "execution_count": 34,
     "metadata": {},
     "output_type": "execute_result"
    }
   ],
   "source": [
    "newton(f, df, -10, 30, 1e-06)"
   ]
  },
  {
   "cell_type": "code",
   "execution_count": 35,
   "id": "05324700",
   "metadata": {},
   "outputs": [
    {
     "name": "stdout",
     "output_type": "stream",
     "text": [
      "Found root in 9 iterations\n"
     ]
    },
    {
     "data": {
      "text/plain": [
       "1.465571232470246"
      ]
     },
     "execution_count": 35,
     "metadata": {},
     "output_type": "execute_result"
    }
   ],
   "source": [
    "newton(f, df, 10, 30, 1e-06)"
   ]
  },
  {
   "cell_type": "code",
   "execution_count": 36,
   "id": "96a5f644",
   "metadata": {},
   "outputs": [
    {
     "name": "stdout",
     "output_type": "stream",
     "text": [
      "Found root in 15 iterations\n"
     ]
    },
    {
     "data": {
      "text/plain": [
       "1.4655712318887797"
      ]
     },
     "execution_count": 36,
     "metadata": {},
     "output_type": "execute_result"
    }
   ],
   "source": [
    "newton(f, df, 100, 30, 1e-06)"
   ]
  },
  {
   "cell_type": "markdown",
   "id": "f535ed61",
   "metadata": {},
   "source": [
    "The function newton() still seems to be able to pick up the root starting from those ends"
   ]
  },
  {
   "cell_type": "markdown",
   "id": "05bf8cd9",
   "metadata": {},
   "source": [
    "Then, let's try to see what happens when we change the value of epsilon to 1e-8:"
   ]
  },
  {
   "cell_type": "markdown",
   "id": "da9c6341",
   "metadata": {},
   "source": [
    "From part 2):"
   ]
  },
  {
   "cell_type": "code",
   "execution_count": 39,
   "id": "2f8c01df",
   "metadata": {},
   "outputs": [
    {
     "name": "stdout",
     "output_type": "stream",
     "text": [
      "Found root in 12 iterations\n"
     ]
    },
    {
     "data": {
      "text/plain": [
       "1.4655712318767748"
      ]
     },
     "execution_count": 39,
     "metadata": {},
     "output_type": "execute_result"
    }
   ],
   "source": [
    "newton(f, df, 0.1, 30, 1e-08)"
   ]
  },
  {
   "cell_type": "markdown",
   "id": "29b150f8",
   "metadata": {},
   "source": [
    "It only required one more iteration!"
   ]
  },
  {
   "cell_type": "markdown",
   "id": "10672e24",
   "metadata": {},
   "source": [
    "From part 3): "
   ]
  },
  {
   "cell_type": "code",
   "execution_count": 40,
   "id": "27dc0071",
   "metadata": {},
   "outputs": [
    {
     "name": "stdout",
     "output_type": "stream",
     "text": [
      "Found root in 20 iterations\n"
     ]
    },
    {
     "data": {
      "text/plain": [
       "1.465571231890084"
      ]
     },
     "execution_count": 40,
     "metadata": {},
     "output_type": "execute_result"
    }
   ],
   "source": [
    "newton(f, df, -100, 30, 1e-08)"
   ]
  },
  {
   "cell_type": "markdown",
   "id": "652a0e0c",
   "metadata": {},
   "source": [
    "Same number"
   ]
  },
  {
   "cell_type": "code",
   "execution_count": 41,
   "id": "76bb12d8",
   "metadata": {},
   "outputs": [
    {
     "name": "stdout",
     "output_type": "stream",
     "text": [
      "Found root in 27 iterations\n"
     ]
    },
    {
     "data": {
      "text/plain": [
       "1.465571231876768"
      ]
     },
     "execution_count": 41,
     "metadata": {},
     "output_type": "execute_result"
    }
   ],
   "source": [
    "newton(f, df, -10, 30, 1e-08)"
   ]
  },
  {
   "cell_type": "markdown",
   "id": "78c13364",
   "metadata": {},
   "source": [
    "One more"
   ]
  },
  {
   "cell_type": "code",
   "execution_count": 42,
   "id": "7f453fbe",
   "metadata": {},
   "outputs": [
    {
     "name": "stdout",
     "output_type": "stream",
     "text": [
      "Found root in 9 iterations\n"
     ]
    },
    {
     "data": {
      "text/plain": [
       "1.465571232470246"
      ]
     },
     "execution_count": 42,
     "metadata": {},
     "output_type": "execute_result"
    }
   ],
   "source": [
    "newton(f, df, 10, 30, 1e-08)"
   ]
  },
  {
   "cell_type": "markdown",
   "id": "03ff6285",
   "metadata": {},
   "source": [
    "Same "
   ]
  },
  {
   "cell_type": "code",
   "execution_count": 43,
   "id": "2c296d0e",
   "metadata": {},
   "outputs": [
    {
     "name": "stdout",
     "output_type": "stream",
     "text": [
      "Found root in 15 iterations\n"
     ]
    },
    {
     "data": {
      "text/plain": [
       "1.4655712318887797"
      ]
     },
     "execution_count": 43,
     "metadata": {},
     "output_type": "execute_result"
    }
   ],
   "source": [
    "newton(f, df, 100, 30, 1e-08)"
   ]
  },
  {
   "cell_type": "markdown",
   "id": "7cfc7ae5",
   "metadata": {},
   "source": [
    "Same"
   ]
  },
  {
   "cell_type": "markdown",
   "id": "f0b6dfd4",
   "metadata": {},
   "source": [
    "Overall, it seems like the newton() function is able to catch up increasingly precise roots of f with marginally few additional steps. "
   ]
  },
  {
   "cell_type": "code",
   "execution_count": 54,
   "id": "a0f14a00",
   "metadata": {},
   "outputs": [
    {
     "data": {
      "text/plain": [
       "'/fs/lustre/scratch/horlaville/CTA200_2022/CTA200H/lecture_4_numerical_python'"
      ]
     },
     "execution_count": 54,
     "metadata": {},
     "output_type": "execute_result"
    }
   ],
   "source": [
    "pwd"
   ]
  },
  {
   "cell_type": "code",
   "execution_count": null,
   "id": "b61834f5",
   "metadata": {},
   "outputs": [],
   "source": []
  }
 ],
 "metadata": {
  "kernelspec": {
   "display_name": "Python 3 (ipykernel)",
   "language": "python",
   "name": "python3"
  },
  "language_info": {
   "codemirror_mode": {
    "name": "ipython",
    "version": 3
   },
   "file_extension": ".py",
   "mimetype": "text/x-python",
   "name": "python",
   "nbconvert_exporter": "python",
   "pygments_lexer": "ipython3",
   "version": "3.10.2"
  }
 },
 "nbformat": 4,
 "nbformat_minor": 5
}
