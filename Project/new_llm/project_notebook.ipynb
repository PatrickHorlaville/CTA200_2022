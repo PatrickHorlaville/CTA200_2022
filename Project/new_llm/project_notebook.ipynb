{
 "cells": [
  {
   "cell_type": "markdown",
   "id": "a0104703",
   "metadata": {},
   "source": [
    "# Exploring Line-Intensity Cube Predictions with $\\texttt{limlam}\\_\\texttt{mocker}$"
   ]
  },
  {
   "cell_type": "markdown",
   "id": "90f46d1e",
   "metadata": {},
   "source": [
    "CTA200H Computing in Astrophysics Summer 2022 Final Project\n",
    "\n",
    "Prof.: Norman Murray\n",
    "\n",
    "TA: Fergus Horrobin\n",
    "\n",
    "Supervisor: Dr. Dongwoo Chung $\\&$ Prof. Dick Bond\n",
    "\n",
    "Student: Patrick Horlaville"
   ]
  },
  {
   "cell_type": "markdown",
   "id": "b2827312",
   "metadata": {},
   "source": [
    "## 0: Prelude"
   ]
  },
  {
   "cell_type": "markdown",
   "id": "e5c973e7",
   "metadata": {},
   "source": [
    "### 0.1: Setting up $\\texttt{limlam}\\_\\texttt{mocker}$"
   ]
  },
  {
   "cell_type": "markdown",
   "id": "f470a681",
   "metadata": {},
   "source": [
    "The package was cloned in my home directory"
   ]
  },
  {
   "cell_type": "markdown",
   "id": "d08aa8da",
   "metadata": {},
   "source": [
    "### 0.2: A Quick Inspection"
   ]
  },
  {
   "cell_type": "code",
   "execution_count": 1,
   "id": "8d118194",
   "metadata": {},
   "outputs": [],
   "source": [
    "import numpy as np\n",
    "import matplotlib.pyplot as plt"
   ]
  },
  {
   "cell_type": "code",
   "execution_count": 2,
   "id": "50158ad0",
   "metadata": {},
   "outputs": [],
   "source": [
    "ppcat = np.load('./catalogues/peakpatchcatalogue_1pt4deg_z2pt4-3pt4.npz', allow_pickle=True)"
   ]
  },
  {
   "cell_type": "code",
   "execution_count": 3,
   "id": "da5746e2",
   "metadata": {},
   "outputs": [
    {
     "name": "stdout",
     "output_type": "stream",
     "text": [
      "['cosmo_header', 'M', 'zform', 'vx', 'zhalo', 'vy', 'y', 'x', 'vz', 'z']\n"
     ]
    }
   ],
   "source": [
    "print(ppcat.files)"
   ]
  },
  {
   "cell_type": "code",
   "execution_count": 4,
   "id": "56e33f20",
   "metadata": {},
   "outputs": [],
   "source": [
    "M = ppcat['M']\n",
    "z_halo = ppcat['zhalo']"
   ]
  },
  {
   "cell_type": "code",
   "execution_count": 25,
   "id": "00e10ed0",
   "metadata": {},
   "outputs": [
    {
     "data": {
      "image/png": "[encoded data removed]",
      "text/plain": [
       "<Figure size 432x288 with 1 Axes>"
      ]
     },
     "metadata": {
      "needs_background": "light"
     },
     "output_type": "display_data"
    }
   ],
   "source": [
    "plt.hist(np.log(M))\n",
    "plt.title(r'Mass distribution of each halo')\n",
    "plt.xlabel(r'Mass [$M_\\odot$]')\n",
    "plt.savefig(\"mass_distribution.png\")"
   ]
  },
  {
   "cell_type": "code",
   "execution_count": 26,
   "id": "6e13e3d5",
   "metadata": {},
   "outputs": [
    {
     "data": {
      "image/png": "[encoded data removed]",
      "text/plain": [
       "<Figure size 432x288 with 1 Axes>"
      ]
     },
     "metadata": {
      "needs_background": "light"
     },
     "output_type": "display_data"
    }
   ],
   "source": [
    "plt.hist(z_halo)\n",
    "plt.title(r\"Halos' redshift distribution\")\n",
    "plt.xlabel(r\"Redshift $z$\")\n",
    "plt.savefig(\"redshift_distribution.png\")"
   ]
  },
  {
   "cell_type": "markdown",
   "id": "e82a2f14",
   "metadata": {},
   "source": [
    "While Li+2016 has its range of redshift values between 2.4 and 2.8, our catalogue with $\\texttt{limlam}\\_\\texttt{mocker}$ covers higher redshift. Therefore, on average, the redshift of our catalog should be higher than the redshift from Li+2016."
   ]
  },
  {
   "cell_type": "markdown",
   "id": "f91481eb",
   "metadata": {},
   "source": [
    "## 0.3: A Few Tweaks"
   ]
  },
  {
   "cell_type": "markdown",
   "id": "9ca6dde2",
   "metadata": {},
   "source": [
    "Upon having modified some parts of the $\\texttt{limlam}\\_\\texttt{mocker}$ code by adding an $\\texttt{allow}\\_\\texttt{pickle=True}$ argument, we should now be able to read $\\texttt{cosmo}\\_\\texttt{header}$"
   ]
  },
  {
   "cell_type": "code",
   "execution_count": 7,
   "id": "d37fb4cb",
   "metadata": {},
   "outputs": [
    {
     "data": {
      "text/plain": [
       "array({'h': 0.7, 'sigma8': 0.82, 'Omega_M': 0.286, 'Omega_L': 0.714, 'Omega_B': 0.047, 'ns': 0.96},\n",
       "      dtype=object)"
      ]
     },
     "execution_count": 7,
     "metadata": {},
     "output_type": "execute_result"
    }
   ],
   "source": [
    "ppcat['cosmo_header']"
   ]
  },
  {
   "cell_type": "markdown",
   "id": "357afd78",
   "metadata": {},
   "source": [
    "## 1: Mean CO brightness versus minimum halo mass"
   ]
  },
  {
   "cell_type": "markdown",
   "id": "0e08d722",
   "metadata": {},
   "source": [
    "1.1 -  Loading simulation & computing average CO brightness temperature over the whole cube"
   ]
  },
  {
   "cell_type": "code",
   "execution_count": 9,
   "id": "fb26608d",
   "metadata": {},
   "outputs": [],
   "source": [
    "co_output = np.load('Lco_cube_trial.npz', allow_pickle=True)"
   ]
  },
  {
   "cell_type": "code",
   "execution_count": 10,
   "id": "1707db0c",
   "metadata": {},
   "outputs": [
    {
     "name": "stdout",
     "output_type": "stream",
     "text": [
      "['fov_x', 'fov_y', 'pix_size_x', 'pix_size_y', 'npix_x', 'npix_y', 'map_pixel_ra', 'map_pixel_dec', 'map_frequencies', 'map_cube']\n"
     ]
    }
   ],
   "source": [
    "print(co_output.files)"
   ]
  },
  {
   "cell_type": "code",
   "execution_count": 11,
   "id": "88975c54",
   "metadata": {},
   "outputs": [
    {
     "data": {
      "text/plain": [
       "(256, 256, 100)"
      ]
     },
     "execution_count": 11,
     "metadata": {},
     "output_type": "execute_result"
    }
   ],
   "source": [
    "co_output['map_cube'].shape"
   ]
  },
  {
   "cell_type": "markdown",
   "id": "c354178f",
   "metadata": {},
   "source": [
    "We have $\\texttt{co}\\_\\texttt{output}[$'$\\texttt{map}\\_\\texttt{cube}$'$]$ which gives us the CO brightness temperature on our 256x256x100 cube grid, where the 256x256 space represents spatial scales and where 100 represents the frequency scale."
   ]
  },
  {
   "cell_type": "code",
   "execution_count": 12,
   "id": "446db381",
   "metadata": {},
   "outputs": [
    {
     "data": {
      "text/plain": [
       "0.80489658830494"
      ]
     },
     "execution_count": 12,
     "metadata": {},
     "output_type": "execute_result"
    }
   ],
   "source": [
    "np.mean(co_output['map_cube'])"
   ]
  },
  {
   "cell_type": "markdown",
   "id": "debcff69",
   "metadata": {},
   "source": [
    "From $\\texttt{limlam}\\_\\texttt{mocker}$, the average CO brightness temperature over the whole cube grid is 0.80µK for minimum $M = 3x10^{10} M_\\odot$, \n",
    "\n",
    "compared to 0.92µK for minimum $M = 1x10^{10} M_\\odot$ from Li+2016."
   ]
  },
  {
   "cell_type": "markdown",
   "id": "f7f438af",
   "metadata": {},
   "source": [
    "1.2 - Repeat with new minimum mass parameters (from $\\texttt{params}\\_\\texttt{2.py}$ $\\&$ $\\texttt{params}\\_\\texttt{3.py}$ )"
   ]
  },
  {
   "cell_type": "code",
   "execution_count": 13,
   "id": "902adc2c",
   "metadata": {},
   "outputs": [
    {
     "data": {
      "text/plain": [
       "0.6655007368829647"
      ]
     },
     "execution_count": 13,
     "metadata": {},
     "output_type": "execute_result"
    }
   ],
   "source": [
    "co_output_2 = np.load('Lco_cube_trial_2.npz', allow_pickle=True)\n",
    "np.mean(co_output_2['map_cube'])"
   ]
  },
  {
   "cell_type": "markdown",
   "id": "5f3a206b",
   "metadata": {},
   "source": [
    "From $\\texttt{limlam}\\_\\texttt{mocker}$, the average CO brightness temperature over the whole cube grid is 0.67µK, compared to 0.67µK from Li+2016\n",
    "\n",
    "for minimum $M = 10^{11} M_\\odot$"
   ]
  },
  {
   "cell_type": "code",
   "execution_count": 14,
   "id": "53746ca5",
   "metadata": {},
   "outputs": [
    {
     "data": {
      "text/plain": [
       "0.1992902220627034"
      ]
     },
     "execution_count": 14,
     "metadata": {},
     "output_type": "execute_result"
    }
   ],
   "source": [
    "co_output_3 = np.load('Lco_cube_trial_3.npz', allow_pickle=True)\n",
    "np.mean(co_output_3['map_cube'])"
   ]
  },
  {
   "cell_type": "markdown",
   "id": "3a67acb7",
   "metadata": {},
   "source": [
    "From $\\texttt{limlam}\\_\\texttt{mocker}$, the average CO brightness temperature over the whole cube grid is 0.20µK, compared to 0.26µK from Li+2016\n",
    "\n",
    "for minimum $M = 10^{12} M_\\odot$"
   ]
  },
  {
   "cell_type": "markdown",
   "id": "61447ae9",
   "metadata": {},
   "source": [
    "The order of magnitude of those average CO brightness temperatures is the same between Li+2016 and my results with $\\texttt{limlam}\\_\\texttt{mocker}$."
   ]
  },
  {
   "cell_type": "code",
   "execution_count": 15,
   "id": "4f2f0780",
   "metadata": {},
   "outputs": [],
   "source": [
    "m_arr = np.array([3*(10**10), (10**11), (10**12)])\n",
    "t_arr = np.array([np.mean(co_output['map_cube']), np.mean(co_output_2['map_cube']), np.mean(co_output_3['map_cube'])])"
   ]
  },
  {
   "cell_type": "markdown",
   "id": "b42cbb1b",
   "metadata": {},
   "source": [
    "We can plot a temporary equivalent of Figure 11 (from Li+2016) with our results"
   ]
  },
  {
   "cell_type": "code",
   "execution_count": 16,
   "id": "acc106cd",
   "metadata": {},
   "outputs": [
    {
     "data": {
      "image/png": "[encoded data removed]",
      "text/plain": [
       "<Figure size 432x288 with 1 Axes>"
      ]
     },
     "metadata": {
      "needs_background": "light"
     },
     "output_type": "display_data"
    }
   ],
   "source": [
    "plt.plot(m_arr, t_arr, '.k')\n",
    "plt.title(r'<$\\rm{T_{CO}}$> vs. min. halo mass')\n",
    "plt.xlabel(r'$\\rm{M_{min}}$ [$\\rm{M_\\odot}$]')\n",
    "plt.ylabel(r'<$\\rm{T_{CO}}$> [µK]')\n",
    "plt.xscale(\"log\")"
   ]
  },
  {
   "cell_type": "markdown",
   "id": "29b3ad81",
   "metadata": {},
   "source": [
    "1.3: Now having written $\\texttt{new}\\_\\texttt{limlam}\\_\\texttt{mocker.py}$, we can iterate the same process from part 1.1 and 1.2 but over a logspace range of values for the minimum mass."
   ]
  },
  {
   "cell_type": "markdown",
   "id": "b5c3ef0d",
   "metadata": {},
   "source": [
    "The upper bound and lower bound of that range can be specified in $\\texttt{new}\\_\\texttt{limlam}\\_\\texttt{mocker.py}$. The number of iterations $N$ can be specified in $\\texttt{new}\\_\\texttt{params.py}$. Everything can be ran in the terminal with for example the command $\\texttt{python3 new}\\_\\texttt{limlam}\\_\\texttt{mocker.py}$. The resulting $\\texttt{.npz}$ files are stored in the $\\texttt{Lco}\\_\\texttt{files}$ directory, which is located in the home directory."
   ]
  },
  {
   "cell_type": "code",
   "execution_count": 17,
   "id": "351a19e5",
   "metadata": {},
   "outputs": [],
   "source": [
    "import numpy as np\n",
    "import matplotlib.pyplot as plt\n",
    "import new_params\n",
    "import Lco_files"
   ]
  },
  {
   "cell_type": "code",
   "execution_count": 18,
   "id": "6f92ee61",
   "metadata": {},
   "outputs": [],
   "source": [
    "N = new_params.N"
   ]
  },
  {
   "cell_type": "code",
   "execution_count": 19,
   "id": "14bc49b1",
   "metadata": {},
   "outputs": [],
   "source": [
    "new_co_output = [[] for i in range(N)]\n",
    "for i in range(N):\n",
    "    new_co_output[i] = np.load('Lco_files/Lco_cube_trial_%i.npz' % i, allow_pickle=True)"
   ]
  },
  {
   "cell_type": "code",
   "execution_count": 20,
   "id": "c67d053b",
   "metadata": {},
   "outputs": [],
   "source": [
    "meanz = [[] for i in range(N)]\n",
    "for i in range(N):\n",
    "    meanz[i] = np.mean(new_co_output[i]['map_cube'])"
   ]
  },
  {
   "cell_type": "code",
   "execution_count": 21,
   "id": "13467835",
   "metadata": {},
   "outputs": [],
   "source": [
    "new_m_arr = 3*np.logspace(10, 12, N)"
   ]
  },
  {
   "cell_type": "code",
   "execution_count": 22,
   "id": "f49284c6",
   "metadata": {},
   "outputs": [
    {
     "data": {
      "image/png": "[encoded data removed]",
      "text/plain": [
       "<Figure size 432x288 with 1 Axes>"
      ]
     },
     "metadata": {
      "needs_background": "light"
     },
     "output_type": "display_data"
    }
   ],
   "source": [
    "plt.plot(new_m_arr, meanz, '.k')\n",
    "plt.title(r'<$\\rm{T_{CO}}$> vs. minimum halo mass')\n",
    "plt.xlabel(r'$\\rm{M_{min}}$ [$\\rm{M_\\odot}$]')\n",
    "plt.ylabel(r'<$\\rm{T_{CO}}$> [µK]')\n",
    "plt.xscale(\"log\")"
   ]
  },
  {
   "cell_type": "code",
   "execution_count": null,
   "id": "11f16a61",
   "metadata": {},
   "outputs": [],
   "source": []
  }
 ],
 "metadata": {
  "kernelspec": {
   "display_name": "Python 3 (ipykernel)",
   "language": "python",
   "name": "python3"
  },
  "language_info": {
   "codemirror_mode": {
    "name": "ipython",
    "version": 3
   },
   "file_extension": ".py",
   "mimetype": "text/x-python",
   "name": "python",
   "nbconvert_exporter": "python",
   "pygments_lexer": "ipython3",
   "version": "3.10.2"
  }
 },
 "nbformat": 4,
 "nbformat_minor": 5
}
