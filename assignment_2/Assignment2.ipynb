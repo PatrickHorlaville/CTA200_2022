{
 "cells": [
  {
   "cell_type": "code",
   "execution_count": 1,
   "id": "38b978a6",
   "metadata": {},
   "outputs": [
    {
     "data": {
      "text/plain": [
       "'\\nCTA200H Computing in Astrophysics\\nProfessor: Norman Murray\\nTA: Fergus Horrobin\\nAssignment 2\\n@author: Patrick Horlaville\\nMay 7th, 2022\\n'"
      ]
     },
     "execution_count": 1,
     "metadata": {},
     "output_type": "execute_result"
    }
   ],
   "source": [
    "'''\n",
    "CTA200H Computing in Astrophysics\n",
    "Professor: Norman Murray\n",
    "TA: Fergus Horrobin\n",
    "Assignment 2\n",
    "@author: Patrick Horlaville\n",
    "May 7th, 2022\n",
    "'''"
   ]
  },
  {
   "cell_type": "markdown",
   "id": "e84f079f",
   "metadata": {},
   "source": [
    "## Making the function for Newton's method"
   ]
  },
  {
   "cell_type": "code",
   "execution_count": 2,
   "id": "0af49b63",
   "metadata": {},
   "outputs": [],
   "source": [
    "import numpy as np\n",
    "import matplotlib.pyplot as plt"
   ]
  },
  {
   "cell_type": "code",
   "execution_count": 3,
   "id": "a891080c",
   "metadata": {},
   "outputs": [],
   "source": [
    "def f(x):\n",
    "    '''\n",
    "    Computes the output of a specified array x input into a specified function f(x) = x**3 - x**2 - 1 \n",
    "    \n",
    "    Parameters\n",
    "    ----------\n",
    "    \n",
    "    x : array_like\n",
    "        values to be input into the function f\n",
    "        \n",
    "    Returns\n",
    "    -------\n",
    "    \n",
    "    f(x) : array_like\n",
    "           output values of x input into f\n",
    "    '''\n",
    "    \n",
    "    \n",
    "    return (x**3) - (x**2) - 1"
   ]
  },
  {
   "cell_type": "code",
   "execution_count": 4,
   "id": "b8c7ec21",
   "metadata": {},
   "outputs": [],
   "source": [
    "def df(x):\n",
    "    '''\n",
    "    Computes the output of a specified array x input into a specified function df(x) = (3*(x**2)) - (2*x) \n",
    "    \n",
    "    Parameters\n",
    "    ----------\n",
    "    \n",
    "    x : array_like\n",
    "        values to be input into the function f\n",
    "        \n",
    "    Returns\n",
    "    -------\n",
    "    \n",
    "    df(x) : array_like\n",
    "           output values of x input into df\n",
    "           \n",
    "           \n",
    "    Notes \n",
    "    -----\n",
    "    \n",
    "    This specific function df() corresponds to the derivative function of f() specified above.\n",
    "    \n",
    "    '''\n",
    "    \n",
    "    return (3*(x**2)) - (2*x)"
   ]
  },
  {
   "cell_type": "code",
   "execution_count": 5,
   "id": "b7128d25",
   "metadata": {},
   "outputs": [],
   "source": [
    "def newton(f, df, x0, max_iter, epsilon):\n",
    "    \n",
    "    '''\n",
    "    Uses Newton's method root-finding algorithm over a number of specified iterations on a specified function. \n",
    "    The root is detected once the value of |f(x_n)| is sufficiently close to zero; x_n is then taken to be the root.\n",
    "    The iteration stops if a root is found. \n",
    "\n",
    "    \n",
    "    Parameters  \n",
    "    ----------\n",
    "    \n",
    "    f : function\n",
    "        analytical expression over which we want to find the root\n",
    "         \n",
    "    df : function\n",
    "        analytical expression of the derivative of f\n",
    "        \n",
    "    x0 : float\n",
    "        value where the iteration of the Newton method starts\n",
    "    \n",
    "    max_iter : integer\n",
    "        number of iterations performed using the Newton method\n",
    "    \n",
    "    epsilon : float\n",
    "        threshold of acceptance for |f(x_n)| below which x_n is taken to be a root \n",
    "        \n",
    "        \n",
    "    Returns\n",
    "    -------\n",
    "    \n",
    "    If the root is found : \n",
    "        x_n: float\n",
    "        the value of the root along with a printed statement\n",
    "        \n",
    "    If no root is found : \n",
    "        None \n",
    "        along with a printed statement\n",
    "    \n",
    "    '''\n",
    "    \n",
    "    x = np.zeros(max_iter+1)\n",
    "    x[0] = x0\n",
    "    \n",
    "    for n in range(max_iter):\n",
    "        \n",
    "        x[n+1] = x[n] - (f(x[n]))/(df(x[n]))\n",
    "        \n",
    "        if np.absolute(f(x[n])) < epsilon:\n",
    "            print(\"Found root in\", n, \"iterations\")\n",
    "            return x[n]\n",
    "            break\n",
    "            \n",
    "    if np.absolute(f(x[-1])) >= epsilon:\n",
    "        print(\"Iteration failed\")\n",
    "        return None\n",
    "        \n",
    "    else:\n",
    "        print(\"Found root in\", max_iter, \"iterations, just at my limit! Phew!\")\n",
    "        return x[-1]"
   ]
  },
  {
   "cell_type": "markdown",
   "id": "d98a0505",
   "metadata": {},
   "source": [
    "We pick max_iter to be 30, epsilon to be 1e-06 and we liberally choose x0 to be 0.1"
   ]
  },
  {
   "cell_type": "code",
   "execution_count": 6,
   "id": "2f20f8f4",
   "metadata": {},
   "outputs": [
    {
     "name": "stdout",
     "output_type": "stream",
     "text": [
      "Found root in 11 iterations\n"
     ]
    },
    {
     "data": {
      "text/plain": [
       "1.4655713154475905"
      ]
     },
     "execution_count": 6,
     "metadata": {},
     "output_type": "execute_result"
    }
   ],
   "source": [
    "newton(f, df, 0.1, 30, 1e-06)"
   ]
  },
  {
   "cell_type": "markdown",
   "id": "6d416dba",
   "metadata": {},
   "source": [
    "## Checking that the result makes sense"
   ]
  },
  {
   "cell_type": "code",
   "execution_count": 7,
   "id": "4346a091",
   "metadata": {},
   "outputs": [
    {
     "name": "stdout",
     "output_type": "stream",
     "text": [
      "Found root in 11 iterations\n"
     ]
    },
    {
     "data": {
      "text/plain": [
       "<matplotlib.legend.Legend at 0x7f9487a6a3e0>"
      ]
     },
     "execution_count": 7,
     "metadata": {},
     "output_type": "execute_result"
    },
    {
     "data": {
      "image/png": "[encoded data removed]",
      "text/plain": [
       "<Figure size 432x288 with 1 Axes>"
      ]
     },
     "metadata": {
      "needs_background": "light"
     },
     "output_type": "display_data"
    }
   ],
   "source": [
    "x_test = np.linspace(0, 2, 100, 1e-06)\n",
    "y_test = f(x_test)\n",
    "\n",
    "plt.plot(x_test, y_test, 'r', label = 'f')\n",
    "plt.vlines(x = newton(f, df, 0.1, 30, 1e-06), ymin = -2, ymax = 2, linestyle = '--', label = 'Estimate for root')\n",
    "plt.hlines(y = 0, xmin = 0, xmax = 2, color = 'k', label = 'y=0 line')\n",
    "plt.legend()"
   ]
  },
  {
   "cell_type": "markdown",
   "id": "170cf9b6",
   "metadata": {},
   "source": [
    "Looks pretty good! The function newton() seems to have accurately found the root of f"
   ]
  },
  {
   "cell_type": "markdown",
   "id": "034da7ff",
   "metadata": {},
   "source": [
    "## Experimenting"
   ]
  },
  {
   "cell_type": "markdown",
   "id": "947cef72",
   "metadata": {},
   "source": [
    "First, let's try to see what happens when we change the chosen value of x_0"
   ]
  },
  {
   "cell_type": "markdown",
   "id": "a025ebd0",
   "metadata": {},
   "source": [
    "Take x0 = -100, -10, 10, 100"
   ]
  },
  {
   "cell_type": "code",
   "execution_count": 8,
   "id": "45094d5b",
   "metadata": {},
   "outputs": [
    {
     "name": "stdout",
     "output_type": "stream",
     "text": [
      "Found root in 20 iterations\n"
     ]
    },
    {
     "data": {
      "text/plain": [
       "1.465571231890084"
      ]
     },
     "execution_count": 8,
     "metadata": {},
     "output_type": "execute_result"
    }
   ],
   "source": [
    "newton(f, df, -100, 30, 1e-06)"
   ]
  },
  {
   "cell_type": "code",
   "execution_count": 9,
   "id": "cd763258",
   "metadata": {},
   "outputs": [
    {
     "name": "stdout",
     "output_type": "stream",
     "text": [
      "Found root in 26 iterations\n"
     ]
    },
    {
     "data": {
      "text/plain": [
       "1.4655712376690906"
      ]
     },
     "execution_count": 9,
     "metadata": {},
     "output_type": "execute_result"
    }
   ],
   "source": [
    "newton(f, df, -10, 30, 1e-06)"
   ]
  },
  {
   "cell_type": "code",
   "execution_count": 10,
   "id": "7d8208f9",
   "metadata": {},
   "outputs": [
    {
     "name": "stdout",
     "output_type": "stream",
     "text": [
      "Found root in 9 iterations\n"
     ]
    },
    {
     "data": {
      "text/plain": [
       "1.465571232470246"
      ]
     },
     "execution_count": 10,
     "metadata": {},
     "output_type": "execute_result"
    }
   ],
   "source": [
    "newton(f, df, 10, 30, 1e-06)"
   ]
  },
  {
   "cell_type": "code",
   "execution_count": 11,
   "id": "871a4c63",
   "metadata": {},
   "outputs": [
    {
     "name": "stdout",
     "output_type": "stream",
     "text": [
      "Found root in 15 iterations\n"
     ]
    },
    {
     "data": {
      "text/plain": [
       "1.4655712318887797"
      ]
     },
     "execution_count": 11,
     "metadata": {},
     "output_type": "execute_result"
    }
   ],
   "source": [
    "newton(f, df, 100, 30, 1e-06)"
   ]
  },
  {
   "cell_type": "markdown",
   "id": "1266e39e",
   "metadata": {},
   "source": [
    "The function newton() still seems to be able to pick up the root starting from those ends"
   ]
  },
  {
   "cell_type": "markdown",
   "id": "e9e1f05b",
   "metadata": {},
   "source": [
    "Then, let's try to see what happens when we change the value of epsilon to 1e-8:"
   ]
  },
  {
   "cell_type": "markdown",
   "id": "78c48cb4",
   "metadata": {},
   "source": [
    "From part 2):"
   ]
  },
  {
   "cell_type": "code",
   "execution_count": 12,
   "id": "8cd15639",
   "metadata": {},
   "outputs": [
    {
     "name": "stdout",
     "output_type": "stream",
     "text": [
      "Found root in 12 iterations\n"
     ]
    },
    {
     "data": {
      "text/plain": [
       "1.4655712318767748"
      ]
     },
     "execution_count": 12,
     "metadata": {},
     "output_type": "execute_result"
    }
   ],
   "source": [
    "newton(f, df, 0.1, 30, 1e-08)"
   ]
  },
  {
   "cell_type": "markdown",
   "id": "50cdbfbc",
   "metadata": {},
   "source": [
    "It only required one more iteration!"
   ]
  },
  {
   "cell_type": "markdown",
   "id": "5bc38443",
   "metadata": {},
   "source": [
    "From part 3): "
   ]
  },
  {
   "cell_type": "code",
   "execution_count": 13,
   "id": "8ec86b4e",
   "metadata": {},
   "outputs": [
    {
     "name": "stdout",
     "output_type": "stream",
     "text": [
      "Found root in 20 iterations\n"
     ]
    },
    {
     "data": {
      "text/plain": [
       "1.465571231890084"
      ]
     },
     "execution_count": 13,
     "metadata": {},
     "output_type": "execute_result"
    }
   ],
   "source": [
    "newton(f, df, -100, 30, 1e-08)"
   ]
  },
  {
   "cell_type": "markdown",
   "id": "96bc1857",
   "metadata": {},
   "source": [
    "Same number"
   ]
  },
  {
   "cell_type": "code",
   "execution_count": 14,
   "id": "46f1ae4e",
   "metadata": {},
   "outputs": [
    {
     "name": "stdout",
     "output_type": "stream",
     "text": [
      "Found root in 27 iterations\n"
     ]
    },
    {
     "data": {
      "text/plain": [
       "1.465571231876768"
      ]
     },
     "execution_count": 14,
     "metadata": {},
     "output_type": "execute_result"
    }
   ],
   "source": [
    "newton(f, df, -10, 30, 1e-08)"
   ]
  },
  {
   "cell_type": "markdown",
   "id": "4ec621fe",
   "metadata": {},
   "source": [
    "One more"
   ]
  },
  {
   "cell_type": "code",
   "execution_count": 15,
   "id": "854924b6",
   "metadata": {},
   "outputs": [
    {
     "name": "stdout",
     "output_type": "stream",
     "text": [
      "Found root in 9 iterations\n"
     ]
    },
    {
     "data": {
      "text/plain": [
       "1.465571232470246"
      ]
     },
     "execution_count": 15,
     "metadata": {},
     "output_type": "execute_result"
    }
   ],
   "source": [
    "newton(f, df, 10, 30, 1e-08)"
   ]
  },
  {
   "cell_type": "markdown",
   "id": "2eebad8b",
   "metadata": {},
   "source": [
    "Same "
   ]
  },
  {
   "cell_type": "code",
   "execution_count": 16,
   "id": "8e4d2aec",
   "metadata": {},
   "outputs": [
    {
     "name": "stdout",
     "output_type": "stream",
     "text": [
      "Found root in 15 iterations\n"
     ]
    },
    {
     "data": {
      "text/plain": [
       "1.4655712318887797"
      ]
     },
     "execution_count": 16,
     "metadata": {},
     "output_type": "execute_result"
    }
   ],
   "source": [
    "newton(f, df, 100, 30, 1e-08)"
   ]
  },
  {
   "cell_type": "markdown",
   "id": "9e3b6467",
   "metadata": {},
   "source": [
    "Same"
   ]
  },
  {
   "cell_type": "markdown",
   "id": "0bf45e08",
   "metadata": {},
   "source": [
    "Overall, it seems like the newton() function is able to catch up increasingly precise roots of f with marginally few additional steps. "
   ]
  },
  {
   "cell_type": "code",
   "execution_count": 17,
   "id": "a232bfbb",
   "metadata": {},
   "outputs": [
    {
     "data": {
      "text/plain": [
       "'/fs/lustre/scratch/horlaville/CTA200_2022/CTA200H/lecture_4_numerical_python'"
      ]
     },
     "execution_count": 17,
     "metadata": {},
     "output_type": "execute_result"
    }
   ],
   "source": [
    "pwd"
   ]
  },
  {
   "cell_type": "code",
   "execution_count": null,
   "id": "787b63aa",
   "metadata": {},
   "outputs": [],
   "source": []
  }
 ],
 "metadata": {
  "kernelspec": {
   "display_name": "Python 3 (ipykernel)",
   "language": "python",
   "name": "python3"
  },
  "language_info": {
   "codemirror_mode": {
    "name": "ipython",
    "version": 3
   },
   "file_extension": ".py",
   "mimetype": "text/x-python",
   "name": "python",
   "nbconvert_exporter": "python",
   "pygments_lexer": "ipython3",
   "version": "3.10.2"
  }
 },
 "nbformat": 4,
 "nbformat_minor": 5
}
